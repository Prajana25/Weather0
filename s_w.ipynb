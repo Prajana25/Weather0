{
  "nbformat": 4,
  "nbformat_minor": 0,
  "metadata": {
    "colab": {
      "provenance": [],
      "authorship_tag": "ABX9TyNDVrfe/61WLe0T56ZiwXmP",
      "include_colab_link": true
    },
    "kernelspec": {
      "name": "python3",
      "display_name": "Python 3"
    },
    "language_info": {
      "name": "python"
    }
  },
  "cells": [
    {
      "cell_type": "markdown",
      "metadata": {
        "id": "view-in-github",
        "colab_type": "text"
      },
      "source": [
        "<a href=\"https://colab.research.google.com/github/Prajana25/Weather0/blob/main/s_w.ipynb\" target=\"_parent\"><img src=\"https://colab.research.google.com/assets/colab-badge.svg\" alt=\"Open In Colab\"/></a>"
      ]
    },
    {
      "cell_type": "code",
      "execution_count": null,
      "metadata": {
        "id": "e1GiMm1UPkJE"
      },
      "outputs": [],
      "source": [
        "def Temperature_modeling(a,b,c,time):\n",
        "  temp  = a*time**2+b*time+c\n",
        "  return temp"
      ]
    },
    {
      "cell_type": "code",
      "source": [
        "a=1\n",
        "b=2\n",
        "c=3\n",
        "time = 4\n",
        "temp = Temperature_modeling(a,b,c,time)\n",
        "print(f\"the Temperature at time {time} is {temp}\")"
      ],
      "metadata": {
        "colab": {
          "base_uri": "https://localhost:8080/"
        },
        "id": "B4L0BWTPQfL9",
        "outputId": "9011eaeb-0382-431a-f704-f793cb788db1"
      },
      "execution_count": null,
      "outputs": [
        {
          "output_type": "stream",
          "name": "stdout",
          "text": [
            "the Temperature at time 4 is 27\n"
          ]
        }
      ]
    },
    {
      "cell_type": "code",
      "source": [
        "temp = Temperature_modeling(float(input('Enter a:')),float(input('Enter b:')),float(input('Enter c:')),int(input('Enter Time:')))\n",
        "print(f\"the Temperature at time {time} is {temp}\")"
      ],
      "metadata": {
        "colab": {
          "base_uri": "https://localhost:8080/"
        },
        "id": "2-bIrmjuRfLH",
        "outputId": "f18ab05e-668d-40c3-9ad2-271c7d32f0e9"
      },
      "execution_count": null,
      "outputs": [
        {
          "output_type": "stream",
          "name": "stdout",
          "text": [
            "Enter a:4\n",
            "Enter b:5\n",
            "Enter c:6\n",
            "Enter Time:2\n",
            "the Temperature at time 4 is 32.0\n"
          ]
        }
      ]
    },
    {
      "cell_type": "code",
      "source": [
        "# Create and write data to the file\n",
        "with open('whether_single.txt', 'w') as f:\n",
        "    f.write(\"1.2 2.4 3.6 5\")"
      ],
      "metadata": {
        "id": "YFKWmsmTUoKE"
      },
      "execution_count": null,
      "outputs": []
    },
    {
      "cell_type": "code",
      "source": [
        "with open('whether_single.txt', 'r') as files:\n",
        "    file = files.readline()\n",
        "    a, b, c, time = file.split()\n",
        "    a = float(a)\n",
        "    b = float(b)\n",
        "    c = float(c)\n",
        "    time = int(time)\n",
        "\n",
        "    temp = Temperature_modeling(a, b, c, time)\n",
        "    print(f'The Temperature at time {time} is {temp}')\n",
        "\n"
      ],
      "metadata": {
        "colab": {
          "base_uri": "https://localhost:8080/"
        },
        "id": "zfXxxsJvQnZl",
        "outputId": "f2fa1a19-874a-4e68-e27f-af99cc3b06c5"
      },
      "execution_count": null,
      "outputs": [
        {
          "output_type": "stream",
          "name": "stdout",
          "text": [
            "The Temperature at time 5 is 45.6\n"
          ]
        }
      ]
    },
    {
      "cell_type": "code",
      "source": [
        "# Step 1: Create the file with multiple lines of input\n",
        "with open('whether_multiple.txt', 'w') as f:\n",
        "    f.write(\"1.0 2.0 3.0 2\\n\")\n",
        "    f.write(\"0.5 1.5 2.5 4\\n\")\n",
        "    f.write(\"2.0 0.0 1.0 3\\n\")"
      ],
      "metadata": {
        "id": "tuvhIX_2Uz9h"
      },
      "execution_count": null,
      "outputs": []
    },
    {
      "cell_type": "code",
      "source": [
        "with open('whether_single.txt','r') as files:\n",
        "  for file in files:\n",
        "    a,b,c,time = file.strip().split()\n",
        "    a = float(a)\n",
        "    b=float(b)\n",
        "    c = float(c)\n",
        "    time = int(time)\n",
        "\n",
        "    temp = Temperature_modeling(a,b,c,time)\n",
        "    print(f'The Temperature at time {time} is {temp}')\n"
      ],
      "metadata": {
        "colab": {
          "base_uri": "https://localhost:8080/"
        },
        "id": "Ykrbut2kRlo6",
        "outputId": "97d186f6-88a7-4ded-b772-8680f7ba1871"
      },
      "execution_count": null,
      "outputs": [
        {
          "output_type": "stream",
          "name": "stdout",
          "text": [
            "The Temperature at time 5 is 45.6\n"
          ]
        }
      ]
    }
  ]
}